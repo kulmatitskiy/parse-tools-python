{
 "cells": [
  {
   "cell_type": "code",
   "execution_count": 1,
   "metadata": {
    "collapsed": false
   },
   "outputs": [],
   "source": [
    "import pandas as pd\n",
    "from parsetools import load_all_json_entries_at_once, make_data_frame"
   ]
  },
  {
   "cell_type": "code",
   "execution_count": 2,
   "metadata": {
    "collapsed": false
   },
   "outputs": [],
   "source": [
    "# read file contents into a new list of entries (class instances)\n",
    "entries = load_all_json_entries_at_once(\"test_data/Order.json\")"
   ]
  },
  {
   "cell_type": "code",
   "execution_count": 3,
   "metadata": {
    "collapsed": false
   },
   "outputs": [
    {
     "name": "stdout",
     "output_type": "stream",
     "text": [
      "{\n",
      "    \"customer\": {\n",
      "        \"className\": \"_User\", \n",
      "        \"__type\": \"Pointer\", \n",
      "        \"objectId\": \"Wgb58JpdJV\"\n",
      "    }, \n",
      "    \"city\": \"Koeln\", \n",
      "    \"objectId\": \"1G0jLQT0Ed\", \n",
      "    \"coord\": {\n",
      "        \"latitude\": 52.534719, \n",
      "        \"__type\": \"GeoPoint\", \n",
      "        \"longitude\": 13.371094\n",
      "    }, \n",
      "    \"amount\": 15.75, \n",
      "    \"updatedAt\": \"2015-09-28T19:55:03.791Z\", \n",
      "    \"deliveryDate\": {\n",
      "        \"iso\": \"2015-11-19T19:51:00.000Z\", \n",
      "        \"__type\": \"Date\"\n",
      "    }, \n",
      "    \"isGift\": false, \n",
      "    \"createdAt\": \"2015-09-28T19:49:16.928Z\"\n",
      "}\n"
     ]
    }
   ],
   "source": [
    "# Example of what each entry looks like in json format\n",
    "import json\n",
    "print(json.dumps(entries[0], indent=4))"
   ]
  },
  {
   "cell_type": "markdown",
   "metadata": {},
   "source": [
    "## `make_data_frame`"
   ]
  },
  {
   "cell_type": "code",
   "execution_count": 4,
   "metadata": {
    "collapsed": false
   },
   "outputs": [
    {
     "data": {
      "text/html": [
       "<div>\n",
       "<table border=\"1\" class=\"dataframe\">\n",
       "  <thead>\n",
       "    <tr style=\"text-align: right;\">\n",
       "      <th></th>\n",
       "      <th>city</th>\n",
       "      <th>created_at</th>\n",
       "      <th>updated_at</th>\n",
       "      <th>coord</th>\n",
       "      <th>amount</th>\n",
       "      <th>deliveryDate</th>\n",
       "      <th>customer_id</th>\n",
       "      <th>isGift</th>\n",
       "    </tr>\n",
       "  </thead>\n",
       "  <tbody>\n",
       "    <tr>\n",
       "      <th>1G0jLQT0Ed</th>\n",
       "      <td>Koeln</td>\n",
       "      <td>2015-09-28 19:49:16</td>\n",
       "      <td>2015-09-28 19:55:03</td>\n",
       "      <td>13.371094, 52.534719</td>\n",
       "      <td>15.75</td>\n",
       "      <td>2015-11-19 19:51:00</td>\n",
       "      <td>Wgb58JpdJV</td>\n",
       "      <td>False</td>\n",
       "    </tr>\n",
       "    <tr>\n",
       "      <th>2N1nDn4uYb</th>\n",
       "      <td>Dresden</td>\n",
       "      <td>2015-09-28 19:49:23</td>\n",
       "      <td>2015-09-28 19:54:39</td>\n",
       "      <td>NaN</td>\n",
       "      <td>24.95</td>\n",
       "      <td>2015-10-01 19:50:00</td>\n",
       "      <td>1BPwfcrsQ2</td>\n",
       "      <td>False</td>\n",
       "    </tr>\n",
       "    <tr>\n",
       "      <th>B5mGp8nQUY</th>\n",
       "      <td>Leipzig</td>\n",
       "      <td>2015-09-28 19:49:14</td>\n",
       "      <td>2015-09-28 19:55:06</td>\n",
       "      <td>13.371094, 52.534719</td>\n",
       "      <td>13.95</td>\n",
       "      <td>2015-10-02 19:51:00</td>\n",
       "      <td>1BPwfcrsQ2</td>\n",
       "      <td>True</td>\n",
       "    </tr>\n",
       "    <tr>\n",
       "      <th>BvSnfDNjIQ</th>\n",
       "      <td>Berlin</td>\n",
       "      <td>2015-09-28 19:49:18</td>\n",
       "      <td>2015-09-28 19:55:02</td>\n",
       "      <td>13.371094, 52.534719</td>\n",
       "      <td>19.99</td>\n",
       "      <td>2015-10-10 19:51:00</td>\n",
       "      <td>7H4jfTgHgb</td>\n",
       "      <td>False</td>\n",
       "    </tr>\n",
       "    <tr>\n",
       "      <th>DqVBAEG04U</th>\n",
       "      <td>Dresden</td>\n",
       "      <td>2015-09-28 19:49:35</td>\n",
       "      <td>2015-09-28 19:54:00</td>\n",
       "      <td>13.371094, 52.534719</td>\n",
       "      <td>13.95</td>\n",
       "      <td>2015-10-14 19:50:00</td>\n",
       "      <td>7H4jfTgHgb</td>\n",
       "      <td>False</td>\n",
       "    </tr>\n",
       "    <tr>\n",
       "      <th>FMI1sEaF1T</th>\n",
       "      <td>Munich</td>\n",
       "      <td>2015-09-28 19:49:31</td>\n",
       "      <td>2015-09-28 19:55:18</td>\n",
       "      <td>13.371094, 52.534719</td>\n",
       "      <td>NaN</td>\n",
       "      <td>2015-09-30 19:50:00</td>\n",
       "      <td>Wgb58JpdJV</td>\n",
       "      <td>True</td>\n",
       "    </tr>\n",
       "  </tbody>\n",
       "</table>\n",
       "</div>"
      ],
      "text/plain": [
       "               city          created_at          updated_at  \\\n",
       "1G0jLQT0Ed    Koeln 2015-09-28 19:49:16 2015-09-28 19:55:03   \n",
       "2N1nDn4uYb  Dresden 2015-09-28 19:49:23 2015-09-28 19:54:39   \n",
       "B5mGp8nQUY  Leipzig 2015-09-28 19:49:14 2015-09-28 19:55:06   \n",
       "BvSnfDNjIQ   Berlin 2015-09-28 19:49:18 2015-09-28 19:55:02   \n",
       "DqVBAEG04U  Dresden 2015-09-28 19:49:35 2015-09-28 19:54:00   \n",
       "FMI1sEaF1T   Munich 2015-09-28 19:49:31 2015-09-28 19:55:18   \n",
       "\n",
       "                           coord  amount        deliveryDate customer_id  \\\n",
       "1G0jLQT0Ed  13.371094, 52.534719   15.75 2015-11-19 19:51:00  Wgb58JpdJV   \n",
       "2N1nDn4uYb                   NaN   24.95 2015-10-01 19:50:00  1BPwfcrsQ2   \n",
       "B5mGp8nQUY  13.371094, 52.534719   13.95 2015-10-02 19:51:00  1BPwfcrsQ2   \n",
       "BvSnfDNjIQ  13.371094, 52.534719   19.99 2015-10-10 19:51:00  7H4jfTgHgb   \n",
       "DqVBAEG04U  13.371094, 52.534719   13.95 2015-10-14 19:50:00  7H4jfTgHgb   \n",
       "FMI1sEaF1T  13.371094, 52.534719     NaN 2015-09-30 19:50:00  Wgb58JpdJV   \n",
       "\n",
       "           isGift  \n",
       "1G0jLQT0Ed  False  \n",
       "2N1nDn4uYb  False  \n",
       "B5mGp8nQUY   True  \n",
       "BvSnfDNjIQ  False  \n",
       "DqVBAEG04U  False  \n",
       "FMI1sEaF1T   True  "
      ]
     },
     "execution_count": 4,
     "metadata": {},
     "output_type": "execute_result"
    }
   ],
   "source": [
    "# Convert entries to a data frame with appropriate types\n",
    "df = make_data_frame(entries)\n",
    "df"
   ]
  },
  {
   "cell_type": "markdown",
   "metadata": {},
   "source": [
    "Notice:\n",
    "- object ids are used as index\n",
    "- missing values were inserted as NaNs."
   ]
  },
  {
   "cell_type": "code",
   "execution_count": 5,
   "metadata": {
    "collapsed": false
   },
   "outputs": [
    {
     "data": {
      "text/plain": [
       "city                    object\n",
       "created_at      datetime64[ns]\n",
       "updated_at      datetime64[ns]\n",
       "coord                   object\n",
       "amount                 float64\n",
       "deliveryDate    datetime64[ns]\n",
       "customer_id             object\n",
       "isGift                    bool\n",
       "dtype: object"
      ]
     },
     "execution_count": 5,
     "metadata": {},
     "output_type": "execute_result"
    }
   ],
   "source": [
    "# Check that data types were recognized correctly\n",
    "df.dtypes"
   ]
  }
 ],
 "metadata": {
  "kernelspec": {
   "display_name": "Python 2",
   "language": "python",
   "name": "python2"
  },
  "language_info": {
   "codemirror_mode": {
    "name": "ipython",
    "version": 2
   },
   "file_extension": ".py",
   "mimetype": "text/x-python",
   "name": "python",
   "nbconvert_exporter": "python",
   "pygments_lexer": "ipython2",
   "version": "2.7.10"
  }
 },
 "nbformat": 4,
 "nbformat_minor": 0
}
